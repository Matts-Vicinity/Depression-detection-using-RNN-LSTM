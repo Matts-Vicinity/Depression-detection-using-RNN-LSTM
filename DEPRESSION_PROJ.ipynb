{
 "cells": [
  {
   "cell_type": "code",
   "execution_count": 1,
   "id": "7aa6fedf",
   "metadata": {},
   "outputs": [
    {
     "name": "stdout",
     "output_type": "stream",
     "text": [
      "Enhanced audio saved to C:/Users/ABHISHEK/program_1/trained_trimmed_data_enhanced\\336_depressed-[AudioTrimmer.com]_enhanced.wav\n"
     ]
    }
   ],
   "source": [
    "import librosa\n",
    "import numpy as np\n",
    "import soundfile as sf\n",
    "import os\n",
    "import noisereduce as nr  \n",
    "\n",
    "def enhance_audio(input_path, output_path):\n",
    "    try:\n",
    "        output_dir = os.path.dirname(output_path)\n",
    "        os.makedirs(output_dir, exist_ok=True)\n",
    "        noisy_audio, sr = librosa.load(input_path, sr=None)\n",
    "        reduced_noise = nr.reduce_noise(y=noisy_audio, sr=sr)\n",
    "        sf.write(output_path, reduced_noise, sr)\n",
    "        print(f\"Enhanced audio saved to {output_path}\")       \n",
    "    except Exception as e:\n",
    "        print(f\"Error processing {input_path}: {str(e)}\")\n",
    "        \n",
    "input_directory = 'C:/Users/ABHISHEK/program_1/trained_trimmed_data'\n",
    "output_directory = 'C:/Users/ABHISHEK/program_1/trained_trimmed_data_enhanced'\n",
    "audio_files = [f for f in os.listdir(input_directory) if f.endswith('.wav')]\n",
    "\n",
    "for audio_file in audio_files:\n",
    "    input_path = os.path.join(input_directory, audio_file)\n",
    "    output_path = os.path.join(output_directory, os.path.splitext(audio_file)[0] + '_enhanced.wav')\n",
    "enhance_audio(input_path, output_path)"
   ]
  },
  {
   "cell_type": "code",
   "execution_count": 6,
   "id": "6225a301-f72b-4695-b413-698cae75e79f",
   "metadata": {},
   "outputs": [
    {
     "name": "stderr",
     "output_type": "stream",
     "text": [
      "C:\\Users\\ABHISHEK\\AppData\\Local\\Temp\\ipykernel_2524\\812771676.py:30: RuntimeWarning: invalid value encountered in power\n",
      "  log_filter_bank = np.power(log_filter_bank, 1.5)\n"
     ]
    }
   ],
   "source": [
    "import os\n",
    "import numpy as np\n",
    "from python_speech_features import mfcc\n",
    "import soundfile as sf\n",
    "import librosa\n",
    "from python_speech_features import logfbank\n",
    "\n",
    "input_directory = 'C:/Users/ABHISHEK/program_1/tested_trimmed_data_enhanced'\n",
    "output_directory = 'C:/Users/ABHISHEK/program_1/tested_trimmed_data_enhanced_mfcccoff'\n",
    "\n",
    "if not os.path.exists(output_directory):\n",
    "    os.makedirs(output_directory)\n",
    "\n",
    "audio_files = [f for f in os.listdir(input_directory) if f.endswith('.wav')]\n",
    "num_ceps = 12  # Number of cepstral coefficients to keep\n",
    "\n",
    "for audio_file in audio_files:\n",
    "    audio, sr = librosa.load(os.path.join(input_directory, audio_file), sr=None)\n",
    "    log_filter_bank = logfbank(audio, samplerate=sr, nfilt=num_ceps)\n",
    "    log_filter_bank = np.power(log_filter_bank, 1.5)\n",
    "    mfcc_features = mfcc(audio, samplerate=sr, numcep=num_ceps)\n",
    "output_file = os.path.join(output_directory, os.path.splitext(audio_file)[0] + '_mfcc.npy')\n",
    "np.save(output_file, mfcc_features)"
   ]
  },
  {
   "cell_type": "code",
   "execution_count": 5,
   "id": "e48c9224-8403-45ac-a2b3-35f238c72764",
   "metadata": {},
   "outputs": [
    {
     "name": "stdout",
     "output_type": "stream",
     "text": [
      "Processed 303 NOT Depressed-[AudioTrimmer.com]_enhanced.wav and saved ZCR value to C:/Users/ABHISHEK/program_1/trained_trimmed_data_enhanced_ZCR\\303 NOT Depressed-[AudioTrimmer.com]_enhanced_zcr.csv\n",
      "Processed 304 depressed-[AudioTrimmer.com]_enhanced.wav and saved ZCR value to C:/Users/ABHISHEK/program_1/trained_trimmed_data_enhanced_ZCR\\304 depressed-[AudioTrimmer.com]_enhanced_zcr.csv\n",
      "Processed 305_Depressed-[AudioTrimmer.com]_enhanced.wav and saved ZCR value to C:/Users/ABHISHEK/program_1/trained_trimmed_data_enhanced_ZCR\\305_Depressed-[AudioTrimmer.com]_enhanced_zcr.csv\n",
      "Processed 310_Depressed-[AudioTrimmer.com]_enhanced.wav and saved ZCR value to C:/Users/ABHISHEK/program_1/trained_trimmed_data_enhanced_ZCR\\310_Depressed-[AudioTrimmer.com]_enhanced_zcr.csv\n",
      "Processed 312_NotDepressed-[AudioTrimmer.com]_enhanced.wav and saved ZCR value to C:/Users/ABHISHEK/program_1/trained_trimmed_data_enhanced_ZCR\\312_NotDepressed-[AudioTrimmer.com]_enhanced_zcr.csv\n",
      "Processed 313_depressed-[AudioTrimmer.com]_enhanced.wav and saved ZCR value to C:/Users/ABHISHEK/program_1/trained_trimmed_data_enhanced_ZCR\\313_depressed-[AudioTrimmer.com]_enhanced_zcr.csv\n",
      "Processed 315_not-[AudioTrimmer.com]_enhanced.wav and saved ZCR value to C:/Users/ABHISHEK/program_1/trained_trimmed_data_enhanced_ZCR\\315_not-[AudioTrimmer.com]_enhanced_zcr.csv\n",
      "Processed 316_Depressed-[AudioTrimmer.com]_enhanced.wav and saved ZCR value to C:/Users/ABHISHEK/program_1/trained_trimmed_data_enhanced_ZCR\\316_Depressed-[AudioTrimmer.com]_enhanced_zcr.csv\n",
      "Processed 317_Depressed-[AudioTrimmer.com]_enhanced.wav and saved ZCR value to C:/Users/ABHISHEK/program_1/trained_trimmed_data_enhanced_ZCR\\317_Depressed-[AudioTrimmer.com]_enhanced_zcr.csv\n",
      "Processed 318_notDepressed-[AudioTrimmer.com]_enhanced.wav and saved ZCR value to C:/Users/ABHISHEK/program_1/trained_trimmed_data_enhanced_ZCR\\318_notDepressed-[AudioTrimmer.com]_enhanced_zcr.csv\n",
      "Processed 319_Depressed-[AudioTrimmer.com]_enhanced.wav and saved ZCR value to C:/Users/ABHISHEK/program_1/trained_trimmed_data_enhanced_ZCR\\319_Depressed-[AudioTrimmer.com]_enhanced_zcr.csv\n",
      "Processed 320 depressed-[AudioTrimmer.com]_enhanced.wav and saved ZCR value to C:/Users/ABHISHEK/program_1/trained_trimmed_data_enhanced_ZCR\\320 depressed-[AudioTrimmer.com]_enhanced_zcr.csv\n",
      "Processed 321_AUDIO-[AudioTrimmer.com]_enhanced.wav and saved ZCR value to C:/Users/ABHISHEK/program_1/trained_trimmed_data_enhanced_ZCR\\321_AUDIO-[AudioTrimmer.com]_enhanced_zcr.csv\n",
      "Processed 322_Depressed-[AudioTrimmer.com]_enhanced.wav and saved ZCR value to C:/Users/ABHISHEK/program_1/trained_trimmed_data_enhanced_ZCR\\322_Depressed-[AudioTrimmer.com]_enhanced_zcr.csv\n",
      "Processed 324_Depressed-[AudioTrimmer.com]_enhanced.wav and saved ZCR value to C:/Users/ABHISHEK/program_1/trained_trimmed_data_enhanced_ZCR\\324_Depressed-[AudioTrimmer.com]_enhanced_zcr.csv\n",
      "Processed 325_Depressed-[AudioTrimmer.com]_enhanced.wav and saved ZCR value to C:/Users/ABHISHEK/program_1/trained_trimmed_data_enhanced_ZCR\\325_Depressed-[AudioTrimmer.com]_enhanced_zcr.csv\n",
      "Processed 326_NOt Depressed-[AudioTrimmer.com]_enhanced.wav and saved ZCR value to C:/Users/ABHISHEK/program_1/trained_trimmed_data_enhanced_ZCR\\326_NOt Depressed-[AudioTrimmer.com]_enhanced_zcr.csv\n",
      "Processed 327_NotDepressed-[AudioTrimmer.com]_enhanced.wav and saved ZCR value to C:/Users/ABHISHEK/program_1/trained_trimmed_data_enhanced_ZCR\\327_NotDepressed-[AudioTrimmer.com]_enhanced_zcr.csv\n",
      "Processed 328_NotDepressed-[AudioTrimmer.com]_enhanced.wav and saved ZCR value to C:/Users/ABHISHEK/program_1/trained_trimmed_data_enhanced_ZCR\\328_NotDepressed-[AudioTrimmer.com]_enhanced_zcr.csv\n",
      "Processed 330_depressed-[AudioTrimmer.com]_enhanced.wav and saved ZCR value to C:/Users/ABHISHEK/program_1/trained_trimmed_data_enhanced_ZCR\\330_depressed-[AudioTrimmer.com]_enhanced_zcr.csv\n",
      "Processed 336_depressed-[AudioTrimmer.com]_enhanced.wav and saved ZCR value to C:/Users/ABHISHEK/program_1/trained_trimmed_data_enhanced_ZCR\\336_depressed-[AudioTrimmer.com]_enhanced_zcr.csv\n",
      "Processing complete.\n"
     ]
    }
   ],
   "source": [
    "import os\n",
    "from pydub import AudioSegment\n",
    "import numpy as np\n",
    "\n",
    "def calculate_zcr(audio_data):\n",
    "    # Calculate ZCR by counting the number of zero-crossings\n",
    "    zcr_count = np.sum(np.diff(np.sign(audio_data)) != 0)\n",
    "    # Normalize by the length of the signal\n",
    "    zcr = zcr_count / len(audio_data)\n",
    "    return zcr\n",
    "\n",
    "input_directory = 'C:/Users/ABHISHEK/program_1/trained_trimmed_data_enhanced'\n",
    "output_directory = 'C:/Users/ABHISHEK/program_1/trained_trimmed_data_enhanced_ZCR'\n",
    "\n",
    "os.makedirs(output_directory, exist_ok=True)\n",
    "audio_files = [f for f in os.listdir(input_directory) if f.endswith('.wav')]\n",
    "\n",
    "for audio_file in audio_files:\n",
    "    audio = AudioSegment.from_wav(os.path.join(input_directory, audio_file))\n",
    "    audio_data = np.array(audio.get_array_of_samples())\n",
    "    zcr_value = calculate_zcr(audio_data)\n",
    "\n",
    "    output_filename = os.path.splitext(audio_file)[0] + '_zcr.csv'\n",
    "    output_path = os.path.join(output_directory, output_filename)\n",
    "    \n",
    "    np.savetxt(output_path, [zcr_value], delimiter=',', fmt='%.2f')\n",
    "    print(f\"Processed {audio_file} and saved ZCR value to {output_path}\")\n",
    "    \n",
    "print(\"Processing complete.\")"
   ]
  },
  {
   "cell_type": "code",
   "execution_count": null,
   "id": "db5ed6fa-a618-47f2-9619-d38032707237",
   "metadata": {},
   "outputs": [],
   "source": [
    "import os\n",
    "import librosa\n",
    "import soundfile as sf\n",
    "import numpy as np\n",
    "\n",
    "# Input directory containing audio files\n",
    "input_directory = 'C:/Users/ABHISHEK/program_1/tested_trimmed_data_enhanced'\n",
    "\n",
    "# Output directory for saving extracted features\n",
    "output_directory = 'C:/Users/ABHISHEK/program_1/tested_trimmed_data_enhanced_f0'\n",
    "\n",
    "# Create the output directory if it doesn't exist\n",
    "os.makedirs(output_directory, exist_ok=True)\n",
    "\n",
    "# Process each audio file in the input directory\n",
    "audio_files = [f for f in os.listdir(input_directory) if f.endswith('.wav')]\n",
    "\n",
    "for audio_file in audio_files:\n",
    "    # Load the audio signal\n",
    "    audio, sr = librosa.load(os.path.join(input_directory, audio_file), sr=None)\n",
    "\n",
    "    # Estimate F0 using librosa\n",
    "    f0, voiced = librosa.piptrack(y=audio, sr=sr)\n",
    "\n",
    "    # Extract the F0 values from the pitch tracker\n",
    "    f0_values = []\n",
    "\n",
    "    for i in range(f0.shape[1]):\n",
    "        f0_frame = f0[:, i][voiced[:, i] > 0]\n",
    "        if len(f0_frame) > 0:\n",
    "            f0_values.extend(f0_frame)\n",
    "\n",
    "    # Calculate statistics on the extracted F0 values (e.g., mean)\n",
    "    if f0_values:\n",
    "        f0_mean = np.mean(f0_values)\n",
    "    else:\n",
    "        f0_mean = 0.0  # Handle cases with no voiced frames\n",
    "\n",
    "    # Create a new filename for the output\n",
    "    output_filename = os.path.splitext(audio_file)[0] + '_mean_f0.csv'\n",
    "    output_path = os.path.join(output_directory, output_filename)\n",
    "\n",
    "    # Save the mean F0 value to a CSV file\n",
    "    np.savetxt(output_path, [f0_mean], delimiter=',', fmt='%.2f')\n",
    "\n",
    "print(f\"Processed {audio_file} and saved mean F0 value to {output_path}\")\n",
    "print(\"Processing complete.\")"
   ]
  },
  {
   "cell_type": "code",
   "execution_count": 8,
   "id": "73504841-3b07-46a0-92ca-05052806a5f9",
   "metadata": {},
   "outputs": [
    {
     "name": "stdout",
     "output_type": "stream",
     "text": [
      "Combined features saved to C:/Users/ABHISHEK/program_1/features_trained_trimmed_train_csv\n"
     ]
    }
   ],
   "source": [
    "import os\n",
    "import numpy as np\n",
    "\n",
    "mfcc_directory = 'C:/Users/ABHISHEK/program_1/trained_trimmed_data_enhanced_mfcccoff_csv'\n",
    "fundamental_freq_directory = 'C:/Users/ABHISHEK/program_1/trained_trimmed_data_enhanced_f0'\n",
    "output_csv_file = 'C:/Users/ABHISHEK/program_1/features_trained_trimmed_train_csv'\n",
    "\n",
    "\n",
    "mfcc_mean = []\n",
    "mfcc_variance = []\n",
    "\n",
    "for csv_file in os.listdir(mfcc_directory):\n",
    "    if csv_file.endswith('.csv'):\n",
    "        csv_data = np.loadtxt(os.path.join(mfcc_directory, csv_file), delimiter=',')\n",
    "        if csv_data.shape[0] > 0:\n",
    "            all_mfcc_coeffs = csv_data.flatten()\n",
    "            mfcc_mean.append(np.mean(all_mfcc_coeffs))\n",
    "            mfcc_variance.append(np.var(all_mfcc_coeffs))\n",
    "\n",
    "fundamental_freq_mean = []\n",
    "for csv_file in os.listdir(fundamental_freq_directory):\n",
    "    if csv_file.endswith('.csv'):\n",
    "        csv_data = np.loadtxt(os.path.join(fundamental_freq_directory, csv_file), delimiter=',')\n",
    "        mean_value = np.mean(csv_data)  # Calculate mean fundamental frequency\n",
    "        fundamental_freq_mean.append(mean_value)\n",
    "combined_features = np.column_stack((mfcc_mean, mfcc_variance, fundamental_freq_mean))\n",
    "np.savetxt(output_csv_file, combined_features, delimiter=',', fmt='%.6f', comments='')\n",
    "print(\"Combined features saved to\", output_csv_file)"
   ]
  }
 ],
 "metadata": {
  "kernelspec": {
   "display_name": "Python 3 (ipykernel)",
   "language": "python",
   "name": "python3"
  },
  "language_info": {
   "codemirror_mode": {
    "name": "ipython",
    "version": 3
   },
   "file_extension": ".py",
   "mimetype": "text/x-python",
   "name": "python",
   "nbconvert_exporter": "python",
   "pygments_lexer": "ipython3",
   "version": "3.10.13"
  }
 },
 "nbformat": 4,
 "nbformat_minor": 5
}
